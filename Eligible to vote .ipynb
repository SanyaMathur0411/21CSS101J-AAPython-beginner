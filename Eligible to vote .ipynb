{
  "nbformat": 4,
  "nbformat_minor": 0,
  "metadata": {
    "colab": {
      "provenance": [],
      "authorship_tag": "ABX9TyP70pgFW4y6oueTPpKLNTDi",
      "include_colab_link": true
    },
    "kernelspec": {
      "name": "python3",
      "display_name": "Python 3"
    },
    "language_info": {
      "name": "python"
    }
  },
  "cells": [
    {
      "cell_type": "markdown",
      "metadata": {
        "id": "view-in-github",
        "colab_type": "text"
      },
      "source": [
        "<a href=\"https://colab.research.google.com/github/SanyaMathur0411/Python-beginner/blob/main/Eligible%20to%20vote%20.ipynb\" target=\"_parent\"><img src=\"https://colab.research.google.com/assets/colab-badge.svg\" alt=\"Open In Colab\"/></a>"
      ]
    },
    {
      "cell_type": "code",
      "source": [
        "age=int(input(\"What is your age\"))\n",
        "if(age>=18):\n",
        "    print(\"you are eligible to vote\")\n",
        "else:\n",
        "    print(\"you are not eligible to vote\")"
      ],
      "metadata": {
        "colab": {
          "base_uri": "https://localhost:8080/"
        },
        "id": "CySHHOCWH2Cn",
        "outputId": "2b72af30-7fae-46a1-c884-357f98a6a97d"
      },
      "execution_count": 7,
      "outputs": [
        {
          "output_type": "stream",
          "name": "stdout",
          "text": [
            "What is your age5\n",
            "you are not eligible to vote\n"
          ]
        }
      ]
    }
  ]
}