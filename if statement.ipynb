{
  "nbformat": 4,
  "nbformat_minor": 0,
  "metadata": {
    "colab": {
      "provenance": [],
      "authorship_tag": "ABX9TyPheLr7JidzYGfW57V1hKOH",
      "include_colab_link": true
    },
    "kernelspec": {
      "name": "python3",
      "display_name": "Python 3"
    },
    "language_info": {
      "name": "python"
    }
  },
  "cells": [
    {
      "cell_type": "markdown",
      "metadata": {
        "id": "view-in-github",
        "colab_type": "text"
      },
      "source": [
        "<a href=\"https://colab.research.google.com/github/SanyaMathur0411/Python-beginner/blob/main/if%20statement.ipynb\" target=\"_parent\"><img src=\"https://colab.research.google.com/assets/colab-badge.svg\" alt=\"Open In Colab\"/></a>"
      ]
    },
    {
      "cell_type": "code",
      "source": [
        "\n",
        "\n",
        "if 5 > 2:\n",
        "  print(\"Five is greater than two!\") \n",
        "\n",
        "\n",
        "\n",
        "if 10 > 9:\n",
        "         print(\"10 is greater than nine!\") \n"
      ],
      "metadata": {
        "id": "hQ1HL9FLKyf2"
      },
      "execution_count": null,
      "outputs": []
    }
  ]
}